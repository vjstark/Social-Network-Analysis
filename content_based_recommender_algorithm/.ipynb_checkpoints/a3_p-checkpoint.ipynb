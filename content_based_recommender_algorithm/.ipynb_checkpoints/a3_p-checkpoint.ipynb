{
 "cells": [
  {
   "cell_type": "code",
   "execution_count": 1,
   "metadata": {},
   "outputs": [],
   "source": [
    "# coding: utf-8\n",
    "\n",
    "# # Assignment 3:  Recommendation systems\n",
    "#\n",
    "# Here we'll implement a content-based recommendation algorithm.\n",
    "# It will use the list of genres for a movie as the content.\n",
    "# The data come from the MovieLens project: http://grouplens.org/datasets/movielens/\n",
    "# Note that I have not provided many doctests for this one. I strongly\n",
    "# recommend that you write your own for each function to ensure your\n",
    "# implementation is correct.\n"
   ]
  },
  {
   "cell_type": "code",
   "execution_count": 2,
   "metadata": {},
   "outputs": [],
   "source": [
    "# Please only use these imports.\n",
    "from collections import Counter, defaultdict\n",
    "import math\n",
    "import numpy as np\n",
    "import os\n",
    "import pandas as pd\n",
    "import re\n",
    "from scipy.sparse import csr_matrix\n",
    "import urllib.request\n",
    "import zipfile\n"
   ]
  },
  {
   "cell_type": "code",
   "execution_count": 3,
   "metadata": {},
   "outputs": [],
   "source": [
    "def download_data():\n",
    "    \"\"\" DONE. Download and unzip data.\n",
    "    \"\"\"\n",
    "    url = 'https://www.dropbox.com/s/p9wmkvbqt1xr6lc/ml-latest-small.zip?dl=1'\n",
    "    urllib.request.urlretrieve(url, 'ml-latest-small.zip')\n",
    "    zfile = zipfile.ZipFile('ml-latest-small.zip')\n",
    "    zfile.extractall()\n",
    "    zfile.close()"
   ]
  },
  {
   "cell_type": "code",
   "execution_count": 4,
   "metadata": {},
   "outputs": [],
   "source": [
    "def tokenize_string(my_string):\n",
    "    \"\"\" DONE. You should use this in your tokenize function.\n",
    "    \"\"\"\n",
    "    return re.findall('[\\w\\-]+', my_string.lower())"
   ]
  },
  {
   "cell_type": "code",
   "execution_count": 36,
   "metadata": {},
   "outputs": [],
   "source": [
    "def tokenize(movies):\n",
    "    \"\"\"\n",
    "    Append a new column to the movies DataFrame with header 'tokens'.\n",
    "    This will contain a list of strings, one per token, extracted\n",
    "    from the 'genre' field of each movie. Use the tokenize_string method above.\n",
    "\n",
    "    Note: you may modify the movies parameter directly; no need to make\n",
    "    a new copy.\n",
    "    Params:\n",
    "      movies...The movies DataFrame\n",
    "    Returns:\n",
    "      The movies DataFrame, augmented to include a new column called 'tokens'.\n",
    "\n",
    "    >>> movies = pd.DataFrame([[123, 'Horror|Romance'], [456, 'Sci-Fi']], columns=['movieId', 'genres'])\n",
    "    >>> movies = tokenize(movies)\n",
    "    >>> movies['tokens'].tolist()\n",
    "    [['horror', 'romance'], ['sci-fi']]\n",
    "    \"\"\"\n",
    "    ###TODO\n",
    "    token_list = []\n",
    "    l = []\n",
    "    for element in movies['genres']:\n",
    "        if element != \"(no genres listed)\":\n",
    "            token_list.append(tokenize_string(element))\n",
    "        else:\n",
    "            token_list.append(l)\n",
    "\n",
    "    movies['tokens'] = token_list\n",
    "    return movies"
   ]
  },
  {
   "cell_type": "code",
   "execution_count": 37,
   "metadata": {},
   "outputs": [],
   "source": [
    "movies = pd.DataFrame([[123, 'Horror|Romance'], [456, 'Sci-Fi']], columns=['movieId', 'genres'])"
   ]
  },
  {
   "cell_type": "code",
   "execution_count": 38,
   "metadata": {},
   "outputs": [],
   "source": [
    "movies = tokenize(movies)"
   ]
  },
  {
   "cell_type": "code",
   "execution_count": 39,
   "metadata": {},
   "outputs": [
    {
     "data": {
      "text/plain": [
       "True"
      ]
     },
     "execution_count": 39,
     "metadata": {},
     "output_type": "execute_result"
    }
   ],
   "source": [
    "movies['tokens'].tolist() == [['horror', 'romance'], ['sci-fi']]"
   ]
  },
  {
   "cell_type": "code",
   "execution_count": 40,
   "metadata": {},
   "outputs": [
    {
     "data": {
      "text/plain": [
       "(   movieId          genres             tokens  \\\n",
       " 0      123  Horror|Romance  [horror, romance]   \n",
       " 1      456          Sci-Fi           [sci-fi]   \n",
       " \n",
       "                                             features  \n",
       " 0    (0, 0)\\t0.3010299956639812\\n  (0, 1)\\t0.3010...  \n",
       " 1                         (0, 2)\\t0.3010299956639812  ,\n",
       " {'horror': 0, 'romance': 1, 'sci-fi': 2})"
      ]
     },
     "execution_count": 40,
     "metadata": {},
     "output_type": "execute_result"
    }
   ],
   "source": [
    "featurize(movies)"
   ]
  },
  {
   "cell_type": "code",
   "execution_count": null,
   "metadata": {},
   "outputs": [],
   "source": []
  },
  {
   "cell_type": "code",
   "execution_count": 17,
   "metadata": {},
   "outputs": [
    {
     "data": {
      "text/html": [
       "<div>\n",
       "<style scoped>\n",
       "    .dataframe tbody tr th:only-of-type {\n",
       "        vertical-align: middle;\n",
       "    }\n",
       "\n",
       "    .dataframe tbody tr th {\n",
       "        vertical-align: top;\n",
       "    }\n",
       "\n",
       "    .dataframe thead th {\n",
       "        text-align: right;\n",
       "    }\n",
       "</style>\n",
       "<table border=\"1\" class=\"dataframe\">\n",
       "  <thead>\n",
       "    <tr style=\"text-align: right;\">\n",
       "      <th></th>\n",
       "      <th>movieId</th>\n",
       "      <th>title</th>\n",
       "      <th>genres</th>\n",
       "      <th>tokens</th>\n",
       "    </tr>\n",
       "  </thead>\n",
       "  <tbody>\n",
       "    <tr>\n",
       "      <th>0</th>\n",
       "      <td>1</td>\n",
       "      <td>Toy Story (1995)</td>\n",
       "      <td>Adventure|Animation|Children|Comedy|Fantasy</td>\n",
       "      <td>[adventure, animation, children, comedy, fantasy]</td>\n",
       "    </tr>\n",
       "    <tr>\n",
       "      <th>1</th>\n",
       "      <td>2</td>\n",
       "      <td>Jumanji (1995)</td>\n",
       "      <td>Adventure|Children|Fantasy</td>\n",
       "      <td>[adventure, children, fantasy]</td>\n",
       "    </tr>\n",
       "    <tr>\n",
       "      <th>2</th>\n",
       "      <td>3</td>\n",
       "      <td>Grumpier Old Men (1995)</td>\n",
       "      <td>Comedy|Romance</td>\n",
       "      <td>[comedy, romance]</td>\n",
       "    </tr>\n",
       "    <tr>\n",
       "      <th>3</th>\n",
       "      <td>4</td>\n",
       "      <td>Waiting to Exhale (1995)</td>\n",
       "      <td>Comedy|Drama|Romance</td>\n",
       "      <td>[comedy, drama, romance]</td>\n",
       "    </tr>\n",
       "    <tr>\n",
       "      <th>4</th>\n",
       "      <td>5</td>\n",
       "      <td>Father of the Bride Part II (1995)</td>\n",
       "      <td>Comedy</td>\n",
       "      <td>[comedy]</td>\n",
       "    </tr>\n",
       "  </tbody>\n",
       "</table>\n",
       "</div>"
      ],
      "text/plain": [
       "   movieId                               title  \\\n",
       "0        1                    Toy Story (1995)   \n",
       "1        2                      Jumanji (1995)   \n",
       "2        3             Grumpier Old Men (1995)   \n",
       "3        4            Waiting to Exhale (1995)   \n",
       "4        5  Father of the Bride Part II (1995)   \n",
       "\n",
       "                                        genres  \\\n",
       "0  Adventure|Animation|Children|Comedy|Fantasy   \n",
       "1                   Adventure|Children|Fantasy   \n",
       "2                               Comedy|Romance   \n",
       "3                         Comedy|Drama|Romance   \n",
       "4                                       Comedy   \n",
       "\n",
       "                                              tokens  \n",
       "0  [adventure, animation, children, comedy, fantasy]  \n",
       "1                     [adventure, children, fantasy]  \n",
       "2                                  [comedy, romance]  \n",
       "3                           [comedy, drama, romance]  \n",
       "4                                           [comedy]  "
      ]
     },
     "execution_count": 17,
     "metadata": {},
     "output_type": "execute_result"
    }
   ],
   "source": [
    "movies.head()"
   ]
  },
  {
   "cell_type": "code",
   "execution_count": 14,
   "metadata": {},
   "outputs": [],
   "source": [
    "download_data()\n",
    "path = 'ml-latest-small'\n",
    "ratings = pd.read_csv(path + os.path.sep + 'ratings.csv')\n",
    "movies = pd.read_csv(path + os.path.sep + 'movies.csv')"
   ]
  },
  {
   "cell_type": "code",
   "execution_count": 18,
   "metadata": {},
   "outputs": [
    {
     "data": {
      "text/plain": [
       "9125"
      ]
     },
     "execution_count": 18,
     "metadata": {},
     "output_type": "execute_result"
    }
   ],
   "source": [
    "len(movies)"
   ]
  },
  {
   "cell_type": "code",
   "execution_count": 144,
   "metadata": {},
   "outputs": [],
   "source": [
    "def featurize(movies): \n",
    "    \"\"\"\n",
    "    Append a new column to the movies DataFrame with header 'features'.\n",
    "    Each row will contain a csr_matrix of shape (1, num_features). Each\n",
    "    entry in this matrix will contain the tf-idf value of the term, as\n",
    "    defined in class:\n",
    "    tfidf(i, d) := tf(i, d) / max_k tf(k, d) * log10(N/df(i))\n",
    "    where:\n",
    "    i is a term\n",
    "    d is a document (movie)\n",
    "    tf(i, d) is the frequency of term i in document d\n",
    "    max_k tf(k, d) is the maximum frequency of any term in document d\n",
    "    N is the number of documents (movies)\n",
    "    df(i) is the number of unique documents containing term i\n",
    "\n",
    "    Params:\n",
    "      movies...The movies DataFrame\n",
    "    Returns:\n",
    "      A tuple containing:\n",
    "      - The movies DataFrame, which has been modified to include a column named 'features'.\n",
    "      - The vocab, a dict from term to int. Make sure the vocab is sorted alphabetically as in a2 (e.g., {'aardvark': 0, 'boy': 1, ...})\n",
    "    \"\"\" \n",
    "    ###TODO\n",
    "    #number of movies\n",
    "    N = len(movies)\n",
    "    #list to store values of csr matrix\n",
    "    csr_list = []\n",
    "    token_list_ol = movies['tokens'].tolist()\n",
    "    #number of unique genres sorted\n",
    "    uniq_token_list = set()\n",
    "    #genre and their frequency in entire column\n",
    "    uniq_token_freq = defaultdict(lambda : 0)\n",
    "\n",
    "    for element in token_list_ol:\n",
    "        for value in element:\n",
    "            if value not in uniq_token_list:\n",
    "                #add genre to set if not present already \n",
    "                uniq_token_list.add(value)\n",
    "            if value not in uniq_token_freq:\n",
    "                uniq_token_freq[value] = 1\n",
    "            else:\n",
    "                uniq_token_freq[value] += 1\n",
    "    \n",
    "    #calculation for df\n",
    "    df_list=[]\n",
    "    for x in movies['tokens']:\n",
    "        for i in set(x):\n",
    "            df_list.append(i)\n",
    "    doc_freq_c = Counter(df_list)\n",
    "    doc_freq_c = dict(doc_freq_c) \n",
    "    print (doc_freq_c)\n",
    "\n",
    "    #sorting the list and getting count of total number of features\n",
    "    uniq_token_list = sorted(uniq_token_list)\n",
    "    N = len(movies)\n",
    "\n",
    "    #assigning index to each genre and forming a vocab\n",
    "    vocab = {}\n",
    "    for value in uniq_token_list:\n",
    "        vocab[value] = len(vocab)\n",
    "    num_features = len(vocab)\n",
    "\n",
    "    #calculating tf, df and forming csr matrix\n",
    "    for sublist in token_list_ol:\n",
    "        #initilizations for csr calculations\n",
    "        tfidf_list = []\n",
    "        row_indices = []\n",
    "        row_ptr = []\n",
    "        #calculate tf\n",
    "        tf_dict = defaultdict(lambda : 0)\n",
    "        for value in sublist:\n",
    "            if value not in tf_dict:\n",
    "                tf_dict[value] = 1\n",
    "            else:\n",
    "                tf_dict[value] += 1\n",
    "        \n",
    "        for value in sublist:\n",
    "            #calculate tf-idf values\n",
    "            tf = tf_dict[value]\n",
    "            df = doc_freq_c[value]\n",
    "            max_k = max(tf_dict.values())\n",
    "            \n",
    "            print (tf)\n",
    "            print (df)\n",
    "            print (max_k)\n",
    "            \n",
    "            tfidf = (tf/max_k)* math.log10(N/df)\n",
    "            tfidf_list.append(tfidf)\n",
    "        #calculate csr\n",
    "            index = vocab[value]\n",
    "            row_indices.append(index)\n",
    "\n",
    "        row_ptr = [0,len(row_indices)]\n",
    "        csr_list.append(csr_matrix((tfidf_list,row_indices,row_ptr),shape=(1,num_features)))\n",
    "        break\n",
    "    movies['features'] = csr_list\n",
    "    return(movies,vocab)\n",
    "        "
   ]
  },
  {
   "cell_type": "code",
   "execution_count": 130,
   "metadata": {},
   "outputs": [],
   "source": [
    "movies = pd.DataFrame([[123, 'Horror|Romance|Horror'], [456, 'Sci-Fi'],[789, 'Romance'], [100, '(no genres listed)'], [101, 'Comedy|Action'],[103, 'Horror|Romance'], [406, 'Sci-Fi']], columns=['movieId', 'genres'])\n",
    "movies = tokenize(movies)"
   ]
  },
  {
   "cell_type": "code",
   "execution_count": 131,
   "metadata": {
    "scrolled": true
   },
   "outputs": [
    {
     "data": {
      "text/html": [
       "<div>\n",
       "<style scoped>\n",
       "    .dataframe tbody tr th:only-of-type {\n",
       "        vertical-align: middle;\n",
       "    }\n",
       "\n",
       "    .dataframe tbody tr th {\n",
       "        vertical-align: top;\n",
       "    }\n",
       "\n",
       "    .dataframe thead th {\n",
       "        text-align: right;\n",
       "    }\n",
       "</style>\n",
       "<table border=\"1\" class=\"dataframe\">\n",
       "  <thead>\n",
       "    <tr style=\"text-align: right;\">\n",
       "      <th></th>\n",
       "      <th>movieId</th>\n",
       "      <th>genres</th>\n",
       "      <th>tokens</th>\n",
       "    </tr>\n",
       "  </thead>\n",
       "  <tbody>\n",
       "    <tr>\n",
       "      <th>0</th>\n",
       "      <td>123</td>\n",
       "      <td>Horror|Romance|Horror</td>\n",
       "      <td>[horror, romance, horror]</td>\n",
       "    </tr>\n",
       "    <tr>\n",
       "      <th>1</th>\n",
       "      <td>456</td>\n",
       "      <td>Sci-Fi</td>\n",
       "      <td>[sci-fi]</td>\n",
       "    </tr>\n",
       "    <tr>\n",
       "      <th>2</th>\n",
       "      <td>789</td>\n",
       "      <td>Romance</td>\n",
       "      <td>[romance]</td>\n",
       "    </tr>\n",
       "    <tr>\n",
       "      <th>3</th>\n",
       "      <td>100</td>\n",
       "      <td>(no genres listed)</td>\n",
       "      <td>[]</td>\n",
       "    </tr>\n",
       "    <tr>\n",
       "      <th>4</th>\n",
       "      <td>101</td>\n",
       "      <td>Comedy|Action</td>\n",
       "      <td>[comedy, action]</td>\n",
       "    </tr>\n",
       "    <tr>\n",
       "      <th>5</th>\n",
       "      <td>103</td>\n",
       "      <td>Horror|Romance</td>\n",
       "      <td>[horror, romance]</td>\n",
       "    </tr>\n",
       "    <tr>\n",
       "      <th>6</th>\n",
       "      <td>406</td>\n",
       "      <td>Sci-Fi</td>\n",
       "      <td>[sci-fi]</td>\n",
       "    </tr>\n",
       "  </tbody>\n",
       "</table>\n",
       "</div>"
      ],
      "text/plain": [
       "   movieId                 genres                     tokens\n",
       "0      123  Horror|Romance|Horror  [horror, romance, horror]\n",
       "1      456                 Sci-Fi                   [sci-fi]\n",
       "2      789                Romance                  [romance]\n",
       "3      100     (no genres listed)                         []\n",
       "4      101          Comedy|Action           [comedy, action]\n",
       "5      103         Horror|Romance          [horror, romance]\n",
       "6      406                 Sci-Fi                   [sci-fi]"
      ]
     },
     "execution_count": 131,
     "metadata": {},
     "output_type": "execute_result"
    }
   ],
   "source": [
    "movies"
   ]
  },
  {
   "cell_type": "code",
   "execution_count": 137,
   "metadata": {},
   "outputs": [
    {
     "name": "stdout",
     "output_type": "stream",
     "text": [
      "{'horror': 2, 'romance': 3, 'sci-fi': 2, 'comedy': 1, 'action': 1}\n"
     ]
    },
    {
     "data": {
      "text/html": [
       "<div>\n",
       "<style scoped>\n",
       "    .dataframe tbody tr th:only-of-type {\n",
       "        vertical-align: middle;\n",
       "    }\n",
       "\n",
       "    .dataframe tbody tr th {\n",
       "        vertical-align: top;\n",
       "    }\n",
       "\n",
       "    .dataframe thead th {\n",
       "        text-align: right;\n",
       "    }\n",
       "</style>\n",
       "<table border=\"1\" class=\"dataframe\">\n",
       "  <thead>\n",
       "    <tr style=\"text-align: right;\">\n",
       "      <th></th>\n",
       "      <th>movieId</th>\n",
       "      <th>genres</th>\n",
       "      <th>tokens</th>\n",
       "      <th>features</th>\n",
       "    </tr>\n",
       "  </thead>\n",
       "  <tbody>\n",
       "    <tr>\n",
       "      <th>0</th>\n",
       "      <td>123</td>\n",
       "      <td>Horror|Romance|Horror</td>\n",
       "      <td>[horror, romance, horror]</td>\n",
       "      <td>(0, 2)\\t0.5440680443502757\\n  (0, 3)\\t0.1839...</td>\n",
       "    </tr>\n",
       "    <tr>\n",
       "      <th>1</th>\n",
       "      <td>456</td>\n",
       "      <td>Sci-Fi</td>\n",
       "      <td>[sci-fi]</td>\n",
       "      <td>(0, 4)\\t0.5440680443502757</td>\n",
       "    </tr>\n",
       "    <tr>\n",
       "      <th>2</th>\n",
       "      <td>789</td>\n",
       "      <td>Romance</td>\n",
       "      <td>[romance]</td>\n",
       "      <td>(0, 3)\\t0.36797678529459443</td>\n",
       "    </tr>\n",
       "    <tr>\n",
       "      <th>3</th>\n",
       "      <td>100</td>\n",
       "      <td>(no genres listed)</td>\n",
       "      <td>[]</td>\n",
       "      <td></td>\n",
       "    </tr>\n",
       "    <tr>\n",
       "      <th>4</th>\n",
       "      <td>101</td>\n",
       "      <td>Comedy|Action</td>\n",
       "      <td>[comedy, action]</td>\n",
       "      <td>(0, 1)\\t0.8450980400142568\\n  (0, 0)\\t0.8450...</td>\n",
       "    </tr>\n",
       "    <tr>\n",
       "      <th>5</th>\n",
       "      <td>103</td>\n",
       "      <td>Horror|Romance</td>\n",
       "      <td>[horror, romance]</td>\n",
       "      <td>(0, 2)\\t0.5440680443502757\\n  (0, 3)\\t0.3679...</td>\n",
       "    </tr>\n",
       "    <tr>\n",
       "      <th>6</th>\n",
       "      <td>406</td>\n",
       "      <td>Sci-Fi</td>\n",
       "      <td>[sci-fi]</td>\n",
       "      <td>(0, 4)\\t0.5440680443502757</td>\n",
       "    </tr>\n",
       "  </tbody>\n",
       "</table>\n",
       "</div>"
      ],
      "text/plain": [
       "   movieId                 genres                     tokens  \\\n",
       "0      123  Horror|Romance|Horror  [horror, romance, horror]   \n",
       "1      456                 Sci-Fi                   [sci-fi]   \n",
       "2      789                Romance                  [romance]   \n",
       "3      100     (no genres listed)                         []   \n",
       "4      101          Comedy|Action           [comedy, action]   \n",
       "5      103         Horror|Romance          [horror, romance]   \n",
       "6      406                 Sci-Fi                   [sci-fi]   \n",
       "\n",
       "                                            features  \n",
       "0    (0, 2)\\t0.5440680443502757\\n  (0, 3)\\t0.1839...  \n",
       "1                         (0, 4)\\t0.5440680443502757  \n",
       "2                        (0, 3)\\t0.36797678529459443  \n",
       "3                                                     \n",
       "4    (0, 1)\\t0.8450980400142568\\n  (0, 0)\\t0.8450...  \n",
       "5    (0, 2)\\t0.5440680443502757\\n  (0, 3)\\t0.3679...  \n",
       "6                         (0, 4)\\t0.5440680443502757  "
      ]
     },
     "execution_count": 137,
     "metadata": {},
     "output_type": "execute_result"
    }
   ],
   "source": [
    "movies1,vocab1 = featurize(movies)\n",
    "movies1"
   ]
  },
  {
   "cell_type": "code",
   "execution_count": 138,
   "metadata": {},
   "outputs": [
    {
     "data": {
      "text/plain": [
       "{'action': 0, 'comedy': 1, 'horror': 2, 'romance': 3, 'sci-fi': 4}"
      ]
     },
     "execution_count": 138,
     "metadata": {},
     "output_type": "execute_result"
    }
   ],
   "source": [
    "vocab1"
   ]
  },
  {
   "cell_type": "code",
   "execution_count": 139,
   "metadata": {},
   "outputs": [
    {
     "data": {
      "text/html": [
       "<div>\n",
       "<style scoped>\n",
       "    .dataframe tbody tr th:only-of-type {\n",
       "        vertical-align: middle;\n",
       "    }\n",
       "\n",
       "    .dataframe tbody tr th {\n",
       "        vertical-align: top;\n",
       "    }\n",
       "\n",
       "    .dataframe thead th {\n",
       "        text-align: right;\n",
       "    }\n",
       "</style>\n",
       "<table border=\"1\" class=\"dataframe\">\n",
       "  <thead>\n",
       "    <tr style=\"text-align: right;\">\n",
       "      <th></th>\n",
       "      <th>movieId</th>\n",
       "      <th>genres</th>\n",
       "      <th>tokens</th>\n",
       "      <th>features</th>\n",
       "    </tr>\n",
       "  </thead>\n",
       "  <tbody>\n",
       "    <tr>\n",
       "      <th>0</th>\n",
       "      <td>123</td>\n",
       "      <td>Horror|Romance|Horror</td>\n",
       "      <td>[horror, romance, horror]</td>\n",
       "      <td>(0, 2)\\t0.5440680443502757\\n  (0, 3)\\t0.1839...</td>\n",
       "    </tr>\n",
       "    <tr>\n",
       "      <th>1</th>\n",
       "      <td>456</td>\n",
       "      <td>Sci-Fi</td>\n",
       "      <td>[sci-fi]</td>\n",
       "      <td>(0, 4)\\t0.5440680443502757</td>\n",
       "    </tr>\n",
       "    <tr>\n",
       "      <th>2</th>\n",
       "      <td>789</td>\n",
       "      <td>Romance</td>\n",
       "      <td>[romance]</td>\n",
       "      <td>(0, 3)\\t0.36797678529459443</td>\n",
       "    </tr>\n",
       "    <tr>\n",
       "      <th>3</th>\n",
       "      <td>100</td>\n",
       "      <td>(no genres listed)</td>\n",
       "      <td>[]</td>\n",
       "      <td></td>\n",
       "    </tr>\n",
       "    <tr>\n",
       "      <th>4</th>\n",
       "      <td>101</td>\n",
       "      <td>Comedy|Action</td>\n",
       "      <td>[comedy, action]</td>\n",
       "      <td>(0, 1)\\t0.8450980400142568\\n  (0, 0)\\t0.8450...</td>\n",
       "    </tr>\n",
       "    <tr>\n",
       "      <th>5</th>\n",
       "      <td>103</td>\n",
       "      <td>Horror|Romance</td>\n",
       "      <td>[horror, romance]</td>\n",
       "      <td>(0, 2)\\t0.5440680443502757\\n  (0, 3)\\t0.3679...</td>\n",
       "    </tr>\n",
       "    <tr>\n",
       "      <th>6</th>\n",
       "      <td>406</td>\n",
       "      <td>Sci-Fi</td>\n",
       "      <td>[sci-fi]</td>\n",
       "      <td>(0, 4)\\t0.5440680443502757</td>\n",
       "    </tr>\n",
       "  </tbody>\n",
       "</table>\n",
       "</div>"
      ],
      "text/plain": [
       "   movieId                 genres                     tokens  \\\n",
       "0      123  Horror|Romance|Horror  [horror, romance, horror]   \n",
       "1      456                 Sci-Fi                   [sci-fi]   \n",
       "2      789                Romance                  [romance]   \n",
       "3      100     (no genres listed)                         []   \n",
       "4      101          Comedy|Action           [comedy, action]   \n",
       "5      103         Horror|Romance          [horror, romance]   \n",
       "6      406                 Sci-Fi                   [sci-fi]   \n",
       "\n",
       "                                            features  \n",
       "0    (0, 2)\\t0.5440680443502757\\n  (0, 3)\\t0.1839...  \n",
       "1                         (0, 4)\\t0.5440680443502757  \n",
       "2                        (0, 3)\\t0.36797678529459443  \n",
       "3                                                     \n",
       "4    (0, 1)\\t0.8450980400142568\\n  (0, 0)\\t0.8450...  \n",
       "5    (0, 2)\\t0.5440680443502757\\n  (0, 3)\\t0.3679...  \n",
       "6                         (0, 4)\\t0.5440680443502757  "
      ]
     },
     "execution_count": 139,
     "metadata": {},
     "output_type": "execute_result"
    }
   ],
   "source": [
    "movies1"
   ]
  },
  {
   "cell_type": "code",
   "execution_count": 143,
   "metadata": {},
   "outputs": [
    {
     "data": {
      "text/plain": [
       "array([[0.        , 0.        , 1.08813609, 0.18398839, 0.        ]])"
      ]
     },
     "execution_count": 143,
     "metadata": {},
     "output_type": "execute_result"
    }
   ],
   "source": [
    "movies1['features'][0].toarray()"
   ]
  },
  {
   "cell_type": "code",
   "execution_count": 29,
   "metadata": {},
   "outputs": [],
   "source": [
    "def train_test_split(ratings):\n",
    "    \"\"\"DONE.\n",
    "    Returns a random split of the ratings matrix into a training and testing set.\n",
    "    \"\"\"\n",
    "    test = set(range(len(ratings))[::1000])\n",
    "    train = sorted(set(range(len(ratings))) - test)\n",
    "    test = sorted(test)\n",
    "    return ratings.iloc[train], ratings.iloc[test]"
   ]
  },
  {
   "cell_type": "code",
   "execution_count": null,
   "metadata": {},
   "outputs": [],
   "source": [
    "def cosine_sim(a, b):\n",
    "    \"\"\"\n",
    "    Compute the cosine similarity between two 1-d csr_matrices.\n",
    "    Each matrix represents the tf-idf feature vector of a movie.\n",
    "    Params:\n",
    "      a...A csr_matrix with shape (1, number_features)\n",
    "      b...A csr_matrix with shape (1, number_features)\n",
    "    Returns:\n",
    "      A float. The cosine similarity, defined as: dot(a, b) / ||a|| * ||b||\n",
    "      where ||a|| indicates the Euclidean norm (aka L2 norm) of vector a.\n",
    "    \"\"\"\n",
    "    ###TODO\n",
    "    pass"
   ]
  }
 ],
 "metadata": {
  "kernelspec": {
   "display_name": "Python 3",
   "language": "python",
   "name": "python3"
  },
  "language_info": {
   "codemirror_mode": {
    "name": "ipython",
    "version": 3
   },
   "file_extension": ".py",
   "mimetype": "text/x-python",
   "name": "python",
   "nbconvert_exporter": "python",
   "pygments_lexer": "ipython3",
   "version": "3.6.4"
  }
 },
 "nbformat": 4,
 "nbformat_minor": 2
}
